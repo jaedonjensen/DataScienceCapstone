{
 "cells": [
  {
   "cell_type": "markdown",
   "metadata": {},
   "source": [
    "# Pre-Processing\n",
    "\n",
    "* Address or complete the following steps:\n",
    "    * Creating dummy features\n",
    "    * Scale standardization\n",
    "    * Split data into training and testing subsets"
   ]
  },
  {
   "cell_type": "markdown",
   "metadata": {},
   "source": [
    "### Load Dataset"
   ]
  },
  {
   "cell_type": "code",
   "execution_count": 1,
   "metadata": {},
   "outputs": [],
   "source": [
    "import pandas as pd\n",
    "import numpy as np\n",
    "\n",
    "import warnings\n",
    "warnings.simplefilter(action=\"ignore\", category=FutureWarning)"
   ]
  },
  {
   "cell_type": "code",
   "execution_count": 2,
   "metadata": {},
   "outputs": [],
   "source": [
    "df = pd.read_csv('../data/dataset_missing_as_nan.csv', index_col=0)"
   ]
  },
  {
   "cell_type": "code",
   "execution_count": 3,
   "metadata": {},
   "outputs": [
    {
     "data": {
      "text/html": [
       "<div>\n",
       "<style scoped>\n",
       "    .dataframe tbody tr th:only-of-type {\n",
       "        vertical-align: middle;\n",
       "    }\n",
       "\n",
       "    .dataframe tbody tr th {\n",
       "        vertical-align: top;\n",
       "    }\n",
       "\n",
       "    .dataframe thead th {\n",
       "        text-align: right;\n",
       "    }\n",
       "</style>\n",
       "<table border=\"1\" class=\"dataframe\">\n",
       "  <thead>\n",
       "    <tr style=\"text-align: right;\">\n",
       "      <th></th>\n",
       "      <th>Age</th>\n",
       "      <th>Number of sexual partners</th>\n",
       "      <th>First sexual intercourse</th>\n",
       "      <th>Num of pregnancies</th>\n",
       "      <th>Smokes</th>\n",
       "      <th>Smokes (years)</th>\n",
       "      <th>Smokes (packs/year)</th>\n",
       "      <th>Hormonal Contraceptives</th>\n",
       "      <th>Hormonal Contraceptives (years)</th>\n",
       "      <th>IUD</th>\n",
       "      <th>...</th>\n",
       "      <th>STDs: Time since first diagnosis</th>\n",
       "      <th>STDs: Time since last diagnosis</th>\n",
       "      <th>Dx:Cancer</th>\n",
       "      <th>Dx:CIN</th>\n",
       "      <th>Dx:HPV</th>\n",
       "      <th>Dx</th>\n",
       "      <th>Hinselmann</th>\n",
       "      <th>Schiller</th>\n",
       "      <th>Citology</th>\n",
       "      <th>Biopsy</th>\n",
       "    </tr>\n",
       "  </thead>\n",
       "  <tbody>\n",
       "    <tr>\n",
       "      <th>0</th>\n",
       "      <td>18</td>\n",
       "      <td>4.0</td>\n",
       "      <td>15.0</td>\n",
       "      <td>1.0</td>\n",
       "      <td>0.0</td>\n",
       "      <td>0.0</td>\n",
       "      <td>0.0</td>\n",
       "      <td>0.0</td>\n",
       "      <td>0.0</td>\n",
       "      <td>0.0</td>\n",
       "      <td>...</td>\n",
       "      <td>NaN</td>\n",
       "      <td>NaN</td>\n",
       "      <td>0</td>\n",
       "      <td>0</td>\n",
       "      <td>0</td>\n",
       "      <td>0</td>\n",
       "      <td>0</td>\n",
       "      <td>0</td>\n",
       "      <td>0</td>\n",
       "      <td>0</td>\n",
       "    </tr>\n",
       "    <tr>\n",
       "      <th>1</th>\n",
       "      <td>15</td>\n",
       "      <td>1.0</td>\n",
       "      <td>14.0</td>\n",
       "      <td>1.0</td>\n",
       "      <td>0.0</td>\n",
       "      <td>0.0</td>\n",
       "      <td>0.0</td>\n",
       "      <td>0.0</td>\n",
       "      <td>0.0</td>\n",
       "      <td>0.0</td>\n",
       "      <td>...</td>\n",
       "      <td>NaN</td>\n",
       "      <td>NaN</td>\n",
       "      <td>0</td>\n",
       "      <td>0</td>\n",
       "      <td>0</td>\n",
       "      <td>0</td>\n",
       "      <td>0</td>\n",
       "      <td>0</td>\n",
       "      <td>0</td>\n",
       "      <td>0</td>\n",
       "    </tr>\n",
       "    <tr>\n",
       "      <th>2</th>\n",
       "      <td>34</td>\n",
       "      <td>1.0</td>\n",
       "      <td>NaN</td>\n",
       "      <td>1.0</td>\n",
       "      <td>0.0</td>\n",
       "      <td>0.0</td>\n",
       "      <td>0.0</td>\n",
       "      <td>0.0</td>\n",
       "      <td>0.0</td>\n",
       "      <td>0.0</td>\n",
       "      <td>...</td>\n",
       "      <td>NaN</td>\n",
       "      <td>NaN</td>\n",
       "      <td>0</td>\n",
       "      <td>0</td>\n",
       "      <td>0</td>\n",
       "      <td>0</td>\n",
       "      <td>0</td>\n",
       "      <td>0</td>\n",
       "      <td>0</td>\n",
       "      <td>0</td>\n",
       "    </tr>\n",
       "    <tr>\n",
       "      <th>3</th>\n",
       "      <td>52</td>\n",
       "      <td>5.0</td>\n",
       "      <td>16.0</td>\n",
       "      <td>4.0</td>\n",
       "      <td>1.0</td>\n",
       "      <td>37.0</td>\n",
       "      <td>37.0</td>\n",
       "      <td>1.0</td>\n",
       "      <td>3.0</td>\n",
       "      <td>0.0</td>\n",
       "      <td>...</td>\n",
       "      <td>NaN</td>\n",
       "      <td>NaN</td>\n",
       "      <td>1</td>\n",
       "      <td>0</td>\n",
       "      <td>1</td>\n",
       "      <td>0</td>\n",
       "      <td>0</td>\n",
       "      <td>0</td>\n",
       "      <td>0</td>\n",
       "      <td>0</td>\n",
       "    </tr>\n",
       "    <tr>\n",
       "      <th>4</th>\n",
       "      <td>46</td>\n",
       "      <td>3.0</td>\n",
       "      <td>21.0</td>\n",
       "      <td>4.0</td>\n",
       "      <td>0.0</td>\n",
       "      <td>0.0</td>\n",
       "      <td>0.0</td>\n",
       "      <td>1.0</td>\n",
       "      <td>15.0</td>\n",
       "      <td>0.0</td>\n",
       "      <td>...</td>\n",
       "      <td>NaN</td>\n",
       "      <td>NaN</td>\n",
       "      <td>0</td>\n",
       "      <td>0</td>\n",
       "      <td>0</td>\n",
       "      <td>0</td>\n",
       "      <td>0</td>\n",
       "      <td>0</td>\n",
       "      <td>0</td>\n",
       "      <td>0</td>\n",
       "    </tr>\n",
       "  </tbody>\n",
       "</table>\n",
       "<p>5 rows × 36 columns</p>\n",
       "</div>"
      ],
      "text/plain": [
       "   Age  Number of sexual partners  First sexual intercourse  \\\n",
       "0   18                        4.0                      15.0   \n",
       "1   15                        1.0                      14.0   \n",
       "2   34                        1.0                       NaN   \n",
       "3   52                        5.0                      16.0   \n",
       "4   46                        3.0                      21.0   \n",
       "\n",
       "   Num of pregnancies  Smokes  Smokes (years)  Smokes (packs/year)  \\\n",
       "0                 1.0     0.0             0.0                  0.0   \n",
       "1                 1.0     0.0             0.0                  0.0   \n",
       "2                 1.0     0.0             0.0                  0.0   \n",
       "3                 4.0     1.0            37.0                 37.0   \n",
       "4                 4.0     0.0             0.0                  0.0   \n",
       "\n",
       "   Hormonal Contraceptives  Hormonal Contraceptives (years)  IUD  ...  \\\n",
       "0                      0.0                              0.0  0.0  ...   \n",
       "1                      0.0                              0.0  0.0  ...   \n",
       "2                      0.0                              0.0  0.0  ...   \n",
       "3                      1.0                              3.0  0.0  ...   \n",
       "4                      1.0                             15.0  0.0  ...   \n",
       "\n",
       "   STDs: Time since first diagnosis  STDs: Time since last diagnosis  \\\n",
       "0                               NaN                              NaN   \n",
       "1                               NaN                              NaN   \n",
       "2                               NaN                              NaN   \n",
       "3                               NaN                              NaN   \n",
       "4                               NaN                              NaN   \n",
       "\n",
       "   Dx:Cancer  Dx:CIN  Dx:HPV  Dx  Hinselmann  Schiller  Citology  Biopsy  \n",
       "0          0       0       0   0           0         0         0       0  \n",
       "1          0       0       0   0           0         0         0       0  \n",
       "2          0       0       0   0           0         0         0       0  \n",
       "3          1       0       1   0           0         0         0       0  \n",
       "4          0       0       0   0           0         0         0       0  \n",
       "\n",
       "[5 rows x 36 columns]"
      ]
     },
     "execution_count": 3,
     "metadata": {},
     "output_type": "execute_result"
    }
   ],
   "source": [
    "df.head()"
   ]
  },
  {
   "cell_type": "code",
   "execution_count": 4,
   "metadata": {},
   "outputs": [
    {
     "data": {
      "text/plain": [
       "(855, 36)"
      ]
     },
     "execution_count": 4,
     "metadata": {},
     "output_type": "execute_result"
    }
   ],
   "source": [
    "df.shape"
   ]
  },
  {
   "cell_type": "code",
   "execution_count": 5,
   "metadata": {},
   "outputs": [
    {
     "name": "stdout",
     "output_type": "stream",
     "text": [
      "<class 'pandas.core.frame.DataFrame'>\n",
      "Index: 855 entries, 0 to 857\n",
      "Data columns (total 36 columns):\n",
      " #   Column                              Non-Null Count  Dtype  \n",
      "---  ------                              --------------  -----  \n",
      " 0   Age                                 855 non-null    int64  \n",
      " 1   Number of sexual partners           829 non-null    float64\n",
      " 2   First sexual intercourse            848 non-null    float64\n",
      " 3   Num of pregnancies                  799 non-null    float64\n",
      " 4   Smokes                              845 non-null    float64\n",
      " 5   Smokes (years)                      845 non-null    float64\n",
      " 6   Smokes (packs/year)                 845 non-null    float64\n",
      " 7   Hormonal Contraceptives             750 non-null    float64\n",
      " 8   Hormonal Contraceptives (years)     750 non-null    float64\n",
      " 9   IUD                                 741 non-null    float64\n",
      " 10  IUD (years)                         741 non-null    float64\n",
      " 11  STDs                                753 non-null    float64\n",
      " 12  STDs (number)                       753 non-null    float64\n",
      " 13  STDs:condylomatosis                 753 non-null    float64\n",
      " 14  STDs:cervical condylomatosis        753 non-null    float64\n",
      " 15  STDs:vaginal condylomatosis         753 non-null    float64\n",
      " 16  STDs:vulvo-perineal condylomatosis  753 non-null    float64\n",
      " 17  STDs:syphilis                       753 non-null    float64\n",
      " 18  STDs:pelvic inflammatory disease    753 non-null    float64\n",
      " 19  STDs:genital herpes                 753 non-null    float64\n",
      " 20  STDs:molluscum contagiosum          753 non-null    float64\n",
      " 21  STDs:AIDS                           753 non-null    float64\n",
      " 22  STDs:HIV                            753 non-null    float64\n",
      " 23  STDs:Hepatitis B                    753 non-null    float64\n",
      " 24  STDs:HPV                            753 non-null    float64\n",
      " 25  STDs: Number of diagnosis           855 non-null    int64  \n",
      " 26  STDs: Time since first diagnosis    71 non-null     float64\n",
      " 27  STDs: Time since last diagnosis     71 non-null     float64\n",
      " 28  Dx:Cancer                           855 non-null    int64  \n",
      " 29  Dx:CIN                              855 non-null    int64  \n",
      " 30  Dx:HPV                              855 non-null    int64  \n",
      " 31  Dx                                  855 non-null    int64  \n",
      " 32  Hinselmann                          855 non-null    int64  \n",
      " 33  Schiller                            855 non-null    int64  \n",
      " 34  Citology                            855 non-null    int64  \n",
      " 35  Biopsy                              855 non-null    int64  \n",
      "dtypes: float64(26), int64(10)\n",
      "memory usage: 247.1 KB\n"
     ]
    }
   ],
   "source": [
    "df.info()"
   ]
  },
  {
   "cell_type": "markdown",
   "metadata": {},
   "source": [
    "### Creating Dummy Features\n",
    "\n",
    "Dummy features allow categorical variables to be used in regression models. It turns a categorical column into multiple boolean columns for each unique value of the categorical columns so the models can see those categories as their own features.\n",
    "\n",
    "This may not work with the data used in this project as all of our categorical columns are boolean in nature already.\n",
    "\n",
    "A similar feature engineering method that could help this specific dataset would be adding a feature to describe the missing status of the categorical columns.\n",
    "\n",
    "There is a large chunk of participants who chose to leave most of the questions in the survey unanswered. We could create a feature in the data denoting if those columns were left blank and set the missing values all to 0. This would remove the missing values while still differentiating the patients who left questions blank from the ones who answered 'No'.\n",
    "\n",
    "To do this, we begin by checking all of the missing values in our data."
   ]
  },
  {
   "cell_type": "code",
   "execution_count": 6,
   "metadata": {},
   "outputs": [
    {
     "data": {
      "text/plain": [
       "Age                                     0\n",
       "Number of sexual partners              26\n",
       "First sexual intercourse                7\n",
       "Num of pregnancies                     56\n",
       "Smokes                                 10\n",
       "Smokes (years)                         10\n",
       "Smokes (packs/year)                    10\n",
       "Hormonal Contraceptives               105\n",
       "Hormonal Contraceptives (years)       105\n",
       "IUD                                   114\n",
       "IUD (years)                           114\n",
       "STDs                                  102\n",
       "STDs (number)                         102\n",
       "STDs:condylomatosis                   102\n",
       "STDs:cervical condylomatosis          102\n",
       "STDs:vaginal condylomatosis           102\n",
       "STDs:vulvo-perineal condylomatosis    102\n",
       "STDs:syphilis                         102\n",
       "STDs:pelvic inflammatory disease      102\n",
       "STDs:genital herpes                   102\n",
       "STDs:molluscum contagiosum            102\n",
       "STDs:AIDS                             102\n",
       "STDs:HIV                              102\n",
       "STDs:Hepatitis B                      102\n",
       "STDs:HPV                              102\n",
       "STDs: Number of diagnosis               0\n",
       "STDs: Time since first diagnosis      784\n",
       "STDs: Time since last diagnosis       784\n",
       "Dx:Cancer                               0\n",
       "Dx:CIN                                  0\n",
       "Dx:HPV                                  0\n",
       "Dx                                      0\n",
       "Hinselmann                              0\n",
       "Schiller                                0\n",
       "Citology                                0\n",
       "Biopsy                                  0\n",
       "dtype: int64"
      ]
     },
     "execution_count": 6,
     "metadata": {},
     "output_type": "execute_result"
    }
   ],
   "source": [
    "# inspect the missing values\n",
    "df.isna().sum()"
   ]
  },
  {
   "cell_type": "markdown",
   "metadata": {},
   "source": [
    "We want to make sure the missing values in the columns regarding STDs are all from the same people, so we can look at all the missing values from the participants in the survey who left the 'STDs' question in the survey blank."
   ]
  },
  {
   "cell_type": "code",
   "execution_count": 7,
   "metadata": {},
   "outputs": [
    {
     "data": {
      "text/plain": [
       "Age                                     0\n",
       "Number of sexual partners              12\n",
       "First sexual intercourse                1\n",
       "Num of pregnancies                      9\n",
       "Smokes                                  0\n",
       "Smokes (years)                          0\n",
       "Smokes (packs/year)                     0\n",
       "Hormonal Contraceptives                92\n",
       "Hormonal Contraceptives (years)        92\n",
       "IUD                                    98\n",
       "IUD (years)                            98\n",
       "STDs                                  102\n",
       "STDs (number)                         102\n",
       "STDs:condylomatosis                   102\n",
       "STDs:cervical condylomatosis          102\n",
       "STDs:vaginal condylomatosis           102\n",
       "STDs:vulvo-perineal condylomatosis    102\n",
       "STDs:syphilis                         102\n",
       "STDs:pelvic inflammatory disease      102\n",
       "STDs:genital herpes                   102\n",
       "STDs:molluscum contagiosum            102\n",
       "STDs:AIDS                             102\n",
       "STDs:HIV                              102\n",
       "STDs:Hepatitis B                      102\n",
       "STDs:HPV                              102\n",
       "STDs: Number of diagnosis               0\n",
       "STDs: Time since first diagnosis      102\n",
       "STDs: Time since last diagnosis       102\n",
       "Dx:Cancer                               0\n",
       "Dx:CIN                                  0\n",
       "Dx:HPV                                  0\n",
       "Dx                                      0\n",
       "Hinselmann                              0\n",
       "Schiller                                0\n",
       "Citology                                0\n",
       "Biopsy                                  0\n",
       "dtype: int64"
      ]
     },
     "execution_count": 7,
     "metadata": {},
     "output_type": "execute_result"
    }
   ],
   "source": [
    "# ensure the STDs columns are missing for all the same rows\n",
    "blank_std_index = df[df['STDs'].isna()].index\n",
    "df.loc[blank_std_index].isna().sum()"
   ]
  },
  {
   "cell_type": "markdown",
   "metadata": {},
   "source": [
    "It was definitely the same 102 women who left the STDs questions unanswered. We can assume that because the behavior was so consistent and they clearly answered other questions, these questions all being left blank may indicate something important about this group. We can add a new boolen feature to our data and give only these women the value of 1 to show that they were in the group that chose not to answer these."
   ]
  },
  {
   "cell_type": "code",
   "execution_count": 8,
   "metadata": {},
   "outputs": [
    {
     "data": {
      "text/plain": [
       "Missing STDs columns\n",
       "0    753\n",
       "1    102\n",
       "Name: count, dtype: int64"
      ]
     },
     "execution_count": 8,
     "metadata": {},
     "output_type": "execute_result"
    }
   ],
   "source": [
    "df['Missing STDs columns'] = df['STDs'].isna()\n",
    "df['Missing STDs columns'] = df['Missing STDs columns'].astype(int)\n",
    "df['Missing STDs columns'].value_counts()"
   ]
  },
  {
   "cell_type": "markdown",
   "metadata": {},
   "source": [
    "Now we can fill in the questions they left blank with 0's to eliminate the mising values and our new feature will indicate that they are in a different group from the rest of the participants."
   ]
  },
  {
   "cell_type": "code",
   "execution_count": 9,
   "metadata": {},
   "outputs": [],
   "source": [
    "# fill N/A with 0 for only the STDs columns\n",
    "filter_df = [col for col in df if col.startswith('STDs')]\n",
    "df[filter_df] = df[filter_df].fillna(0)\n",
    "\n",
    "# fill Hormonal Contraceptives and IUD columns with 0 only for the rows where the STDs columns are missing\n",
    "filter_df = df.loc[blank_std_index][['Hormonal Contraceptives', 'Hormonal Contraceptives (years)', 'IUD', 'IUD (years)']].isna()\n",
    "df[filter_df] = df[filter_df].fillna(0)"
   ]
  },
  {
   "cell_type": "markdown",
   "metadata": {},
   "source": [
    "Check the number of total missing values to see what is still missing"
   ]
  },
  {
   "cell_type": "code",
   "execution_count": 10,
   "metadata": {},
   "outputs": [
    {
     "data": {
      "text/plain": [
       "Age                                    0\n",
       "Number of sexual partners             26\n",
       "First sexual intercourse               7\n",
       "Num of pregnancies                    56\n",
       "Smokes                                10\n",
       "Smokes (years)                        10\n",
       "Smokes (packs/year)                   10\n",
       "Hormonal Contraceptives               13\n",
       "Hormonal Contraceptives (years)       13\n",
       "IUD                                   16\n",
       "IUD (years)                           16\n",
       "STDs                                   0\n",
       "STDs (number)                          0\n",
       "STDs:condylomatosis                    0\n",
       "STDs:cervical condylomatosis           0\n",
       "STDs:vaginal condylomatosis            0\n",
       "STDs:vulvo-perineal condylomatosis     0\n",
       "STDs:syphilis                          0\n",
       "STDs:pelvic inflammatory disease       0\n",
       "STDs:genital herpes                    0\n",
       "STDs:molluscum contagiosum             0\n",
       "STDs:AIDS                              0\n",
       "STDs:HIV                               0\n",
       "STDs:Hepatitis B                       0\n",
       "STDs:HPV                               0\n",
       "STDs: Number of diagnosis              0\n",
       "STDs: Time since first diagnosis       0\n",
       "STDs: Time since last diagnosis        0\n",
       "Dx:Cancer                              0\n",
       "Dx:CIN                                 0\n",
       "Dx:HPV                                 0\n",
       "Dx                                     0\n",
       "Hinselmann                             0\n",
       "Schiller                               0\n",
       "Citology                               0\n",
       "Biopsy                                 0\n",
       "Missing STDs columns                   0\n",
       "dtype: int64"
      ]
     },
     "execution_count": 10,
     "metadata": {},
     "output_type": "execute_result"
    }
   ],
   "source": [
    "df.isna().sum()"
   ]
  },
  {
   "cell_type": "markdown",
   "metadata": {},
   "source": [
    "There are a relatively small number of missing values in a few columns that were for some reason left as they were in data wrangling. We can fill the numeric columns with their medians and the boolean columns with the mode to ensure no missing values to confuse our models."
   ]
  },
  {
   "cell_type": "code",
   "execution_count": 11,
   "metadata": {},
   "outputs": [],
   "source": [
    "from sklearn.impute import SimpleImputer\n",
    "\n",
    "# fill the boolean columns with the most frequent value\n",
    "mode_imputer = SimpleImputer(strategy='most_frequent')\n",
    "bool_filter_df = df[['Smokes', 'Hormonal Contraceptives', 'IUD']].columns\n",
    "df[bool_filter_df] = mode_imputer.fit_transform(df[bool_filter_df])\n",
    "\n",
    "# fill the rest of the columns with the median\n",
    "median_imputer = SimpleImputer(strategy='median')\n",
    "df = pd.DataFrame(median_imputer.fit_transform(df), columns=df.columns)"
   ]
  },
  {
   "cell_type": "markdown",
   "metadata": {},
   "source": [
    "Check our missing values once again to make sure they're all filled"
   ]
  },
  {
   "cell_type": "code",
   "execution_count": 12,
   "metadata": {},
   "outputs": [
    {
     "data": {
      "text/plain": [
       "Age                                   0\n",
       "Number of sexual partners             0\n",
       "First sexual intercourse              0\n",
       "Num of pregnancies                    0\n",
       "Smokes                                0\n",
       "Smokes (years)                        0\n",
       "Smokes (packs/year)                   0\n",
       "Hormonal Contraceptives               0\n",
       "Hormonal Contraceptives (years)       0\n",
       "IUD                                   0\n",
       "IUD (years)                           0\n",
       "STDs                                  0\n",
       "STDs (number)                         0\n",
       "STDs:condylomatosis                   0\n",
       "STDs:cervical condylomatosis          0\n",
       "STDs:vaginal condylomatosis           0\n",
       "STDs:vulvo-perineal condylomatosis    0\n",
       "STDs:syphilis                         0\n",
       "STDs:pelvic inflammatory disease      0\n",
       "STDs:genital herpes                   0\n",
       "STDs:molluscum contagiosum            0\n",
       "STDs:AIDS                             0\n",
       "STDs:HIV                              0\n",
       "STDs:Hepatitis B                      0\n",
       "STDs:HPV                              0\n",
       "STDs: Number of diagnosis             0\n",
       "STDs: Time since first diagnosis      0\n",
       "STDs: Time since last diagnosis       0\n",
       "Dx:Cancer                             0\n",
       "Dx:CIN                                0\n",
       "Dx:HPV                                0\n",
       "Dx                                    0\n",
       "Hinselmann                            0\n",
       "Schiller                              0\n",
       "Citology                              0\n",
       "Biopsy                                0\n",
       "Missing STDs columns                  0\n",
       "dtype: int64"
      ]
     },
     "execution_count": 12,
     "metadata": {},
     "output_type": "execute_result"
    }
   ],
   "source": [
    "df.isna().sum()"
   ]
  },
  {
   "cell_type": "markdown",
   "metadata": {},
   "source": [
    "### Scale Standardization\n",
    "\n",
    "Scale standardization converts a number to the number of standard deviations it is away from the mean. This shows you how extreme (or not extreme) of a value it is.\n",
    "\n",
    "Standardization may help with our particular dataset because there are some features that have greater values and might skew the results of distance calulations. It also helps to put things in simpler terms of how extreme of an outlier they are.\n",
    "\n",
    "I'm not sure if standardization will help or hinder the accuracy of the models, so I will save one dataset that uses standardization and one that does not. This way we can try modeling on both datasets and see which gets better results."
   ]
  },
  {
   "cell_type": "code",
   "execution_count": 13,
   "metadata": {},
   "outputs": [
    {
     "name": "stdout",
     "output_type": "stream",
     "text": [
      "Shape of X_train_standardized: (684, 33)\n",
      "Shape of y_train: (684, 4)\n",
      "Shape of train: (684, 37)\n",
      "Shape of X_test_standardized: (171, 33)\n",
      "Shape of y_test: (171, 4)\n",
      "Shape of test: (171, 37)\n"
     ]
    }
   ],
   "source": [
    "# split into train and test data\n",
    "from sklearn.model_selection import train_test_split\n",
    "\n",
    "X = df.drop(['Hinselmann', 'Schiller', 'Citology', 'Biopsy'], axis=1)\n",
    "y = df[['Hinselmann', 'Schiller', 'Citology', 'Biopsy']]\n",
    "\n",
    "X_train, X_test, y_train, y_test = train_test_split(X, y, test_size=0.2, random_state=42)\n",
    "\n",
    "processed_train = pd.concat([X_train, y_train], axis=1)\n",
    "processed_test = pd.concat([X_test, y_test], axis=1)\n",
    "\n",
    "# Verify the shapes\n",
    "print(\"Shape of X_train_standardized:\", X_train.shape)\n",
    "print(\"Shape of y_train:\", y_train.shape)\n",
    "print(\"Shape of train:\", processed_train.shape)\n",
    "\n",
    "print(\"Shape of X_test_standardized:\", X_test.shape)\n",
    "print(\"Shape of y_test:\", y_test.shape)\n",
    "print(\"Shape of test:\", processed_test.shape)\n",
    "\n",
    "processed_train.to_csv('../data/processed_train.csv')\n",
    "processed_test.to_csv('../data/processed_test.csv')"
   ]
  },
  {
   "cell_type": "markdown",
   "metadata": {},
   "source": [
    "Now we can standardize the data and save that set separately."
   ]
  },
  {
   "cell_type": "code",
   "execution_count": 14,
   "metadata": {},
   "outputs": [
    {
     "name": "stdout",
     "output_type": "stream",
     "text": [
      "Shape of X_train_standardized: (684, 33)\n",
      "Shape of y_train: (684, 4)\n",
      "Shape of train: (684, 37)\n",
      "Shape of X_test_standardized: (171, 33)\n",
      "Shape of y_test: (171, 4)\n",
      "Shape of test: (171, 37)\n"
     ]
    }
   ],
   "source": [
    "from sklearn.preprocessing import StandardScaler\n",
    "\n",
    "scaler = StandardScaler()\n",
    "\n",
    "bool_cols = ['Smokes', 'Hormonal Contraceptives', 'IUD', 'STDs', 'STDs:condylomatosis', 'STDs:cervical condylomatosis',\n",
    "             'STDs:vaginal condylomatosis', 'STDs:vulvo-perineal condylomatosis', 'STDs:syphilis', 'STDs:pelvic inflammatory disease',\n",
    "             'STDs:genital herpes', 'STDs:molluscum contagiosum', 'STDs:AIDS', 'STDs:HIV', 'STDs:Hepatitis B', 'STDs:HPV',\n",
    "             'STDs: Number of diagnosis', 'STDs: Time since first diagnosis', 'STDs: Time since last diagnosis', 'Dx:Cancer', 'Dx:HPV', 'Dx']\n",
    "\n",
    "numeric_cols = ['Age', 'Number of sexual partners', 'First sexual intercourse', 'Smokes (years)', 'Smokes (packs/year)',\n",
    "                  'Hormonal Contraceptives (years)', 'IUD (years)', 'STDs (number)', 'STDs: Number of diagnosis',\n",
    "                  'STDs: Time since first diagnosis', 'STDs: Time since last diagnosis']\n",
    "\n",
    "scaler = scaler.fit(X_train[numeric_cols])\n",
    "X_train_numeric_standardized = pd.DataFrame(scaler.transform(X_train[numeric_cols]), columns=numeric_cols)\n",
    "X_test_numeric_standardized = pd.DataFrame(scaler.transform(X_test[numeric_cols]), columns=numeric_cols)\n",
    "\n",
    "X_train_standardized = pd.concat([X_train_numeric_standardized, X_train[bool_cols].reset_index(drop=True)], axis=1)\n",
    "X_test_standardized = pd.concat([X_test_numeric_standardized, X_test[bool_cols].reset_index(drop=True)], axis=1)\n",
    "\n",
    "y_train.reset_index(drop=True, inplace=True)\n",
    "y_test.reset_index(drop=True, inplace=True)\n",
    "\n",
    "train = pd.concat([X_train_standardized, y_train], axis=1)\n",
    "test = pd.concat([X_test_standardized, y_test], axis=1)\n",
    "\n",
    "# Verify the shapes\n",
    "print(\"Shape of X_train_standardized:\", X_train_standardized.shape)\n",
    "print(\"Shape of y_train:\", y_train.shape)\n",
    "print(\"Shape of train:\", train.shape)\n",
    "\n",
    "print(\"Shape of X_test_standardized:\", X_test_standardized.shape)\n",
    "print(\"Shape of y_test:\", y_test.shape)\n",
    "print(\"Shape of test:\", test.shape)\n",
    "\n",
    "train.to_csv('../data/standardized_train.csv')\n",
    "test.to_csv('../data/standardized_test.csv')"
   ]
  }
 ],
 "metadata": {
  "kernelspec": {
   "display_name": "base",
   "language": "python",
   "name": "python3"
  },
  "language_info": {
   "codemirror_mode": {
    "name": "ipython",
    "version": 3
   },
   "file_extension": ".py",
   "mimetype": "text/x-python",
   "name": "python",
   "nbconvert_exporter": "python",
   "pygments_lexer": "ipython3",
   "version": "3.11.7"
  }
 },
 "nbformat": 4,
 "nbformat_minor": 2
}
